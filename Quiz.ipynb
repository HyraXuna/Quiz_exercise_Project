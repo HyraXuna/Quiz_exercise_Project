{
 "cells": [
  {
   "cell_type": "markdown",
   "metadata": {},
   "source": [
    "# Build a quiz - Simply method"
   ]
  },
  {
   "cell_type": "markdown",
   "metadata": {},
   "source": [
    "This is the simple quiz code with the 3 questions and the verification if the user's answer is correct. The user has 3 life before to lose the game."
   ]
  },
  {
   "cell_type": "code",
   "execution_count": 12,
   "metadata": {},
   "outputs": [
    {
     "name": "stdout",
     "output_type": "stream",
     "text": [
      "Voici notre quiz, tu as trois chances !\n",
      "Bravo ! Tu as gagné le quiz !\n"
     ]
    }
   ],
   "source": [
    "nb_de_chances = 3\n",
    "\n",
    "print(\"Voici notre quiz, tu as trois chances !\")\n",
    "\n",
    "if nb_de_chances > 0:\n",
    "    question1= input(\"Combien de fois la France a gagné la coupe du monde ? \")\n",
    "    while question1 != \"2\":\n",
    "        nb_de_chances -= 1\n",
    "        print(\"Dommage ! Il te reste {} chances\".format(nb_de_chances))\n",
    "        if nb_de_chances == 0:\n",
    "            print(\"Oh non ! Tu as perdu le jeu...\")\n",
    "            break\n",
    "        question1 = input(\"Combien de fois la France a gagné la coupe du monde ? \")\n",
    "\n",
    "if nb_de_chances > 0:\n",
    "    question2 = input(\"Quand a été fondé Apple ? \")\n",
    "    while question2 != \"1976\":\n",
    "        nb_de_chances -=1\n",
    "        print(\"Dommage ! Il te reste {} chances\".format(nb_de_chances))\n",
    "        if nb_de_chances == 0:\n",
    "            print(\"Oh non ! Tu as perdu le jeu...\")\n",
    "            break\n",
    "        question2 = input(\"Quand a été fondé Apple ? \")\n",
    "\n",
    "\n",
    "if nb_de_chances > 0:\n",
    "    question3 = input(\"Qui a fondé SpaceX ? \")\n",
    "    question3 = question3.lower()\n",
    "    while question3 != \"elon musk\":\n",
    "        nb_de_chances -=1\n",
    "        print(\"Dommage ! Il te reste {} chances\".format(nb_de_chances))\n",
    "        if nb_de_chances == 0:\n",
    "            print(\"Oh non ! Tu as perdu le jeu...\")\n",
    "            break\n",
    "        question3 = input(\"Qui a fondé SpaceX ? \")\n",
    "        question3 = question3.lower()\n",
    "\n",
    "if nb_de_chances > 0:\n",
    "    print(\"Bravo ! Tu as gagné le quiz !\")\n"
   ]
  },
  {
   "cell_type": "markdown",
   "metadata": {},
   "source": [
    "Now this is the more complex version of the previous code, more optimized and with the goal to be DRY.\n",
    "\n",
    "* It uses class \n",
    "* It uses functions inside the class"
   ]
  },
  {
   "cell_type": "code",
   "execution_count": 27,
   "metadata": {},
   "outputs": [
    {
     "name": "stdout",
     "output_type": "stream",
     "text": [
      "⭐ Bien joué, prochaine question ! ⭐\n",
      "Dommage ! Il te reste 2 chances \n",
      " Essayez encore !!!\n",
      "Dommage ! Il te reste 1 chances \n",
      " Essayez encore !!!\n",
      "⭐ Bien joué, prochaine question ! ⭐\n",
      "⭐ Bien joué, prochaine question ! ⭐\n",
      "Bravo ! Tu as gagné le quiz !\n"
     ]
    }
   ],
   "source": [
    "import sys\n",
    "\n",
    "class quiz():\n",
    "\n",
    "    questions_choisies = [\"Combien de fois la France a gagné la coupe du monde ? \", \"Quand a été fondé Apple ? \", \"Qui a fondé SpaceX ? \"]\n",
    "    reponses_choisies = [\"2\", \"1976\", \"Elon Musk\"]\n",
    "    nb_vie_choisi = 3\n",
    "\n",
    "    #Initialisation des variables\n",
    "    def __init__(self, questions = questions_choisies, reponses = reponses_choisies, nb_vie = nb_vie_choisi):\n",
    "        self.question = questions\n",
    "        self.reponse = reponses\n",
    "        self.nb_vie = nb_vie\n",
    "    \n",
    "    #Poser la question et obtenir la réponse de l'utilisateur\n",
    "    def get_answer(self, question_number):\n",
    "        reponse = input(self.question[question_number])\n",
    "        return reponse\n",
    "\n",
    "    #Vérifier la réponse par rapport à la question posée\n",
    "    def ask_question(self, question_number):\n",
    "        correct_answer = self.reponse[question_number]\n",
    "        \n",
    "        answer = self.get_answer(question_number)\n",
    "        \n",
    "        if answer == correct_answer:\n",
    "            print(\"⭐ Bien joué, prochaine question ! ⭐\")\n",
    "\n",
    "        while answer != correct_answer:\n",
    "            self.nb_vie -= 1\n",
    "            print(\"Dommage ! Il te reste {} chances\".format(self.nb_vie), \"\\n Essayez encore !!!\")\n",
    "            if self.nb_vie == 0:\n",
    "                print(\"Oh non ! Tu as perdu le jeu...\")\n",
    "                sys.exit(\"Le jeu est terminé. Vous avez perdu :( \\n Veuillez relancer le programme pour recommencer le Quiz, Bonne chance à vous 😁\")\n",
    "            answer = self.get_answer(question_number)\n",
    "            if answer == correct_answer:\n",
    "                print(\"⭐ Bien joué, prochaine question ! ⭐\")\n",
    "\n",
    "        return self.nb_vie\n",
    "  \n",
    "    #Fonction permettant de faire tourner l'entièreté du quiz             \n",
    "    def run_quiz(self):\n",
    "        # Process (main loop)\n",
    "        for i in range(len(self.question)):\n",
    "            self.ask_question(i)\n",
    "        \n",
    "        if self.nb_vie > 0:\n",
    "            return print(\"Bravo ! Tu as gagné le quiz !\")\n",
    "            \n",
    "#Pour lancer le quiz directement en démarrant la cellule.\n",
    "if __name__ == \"__main__\":\n",
    "    quiz().run_quiz()\n"
   ]
  }
 ],
 "metadata": {
  "kernelspec": {
   "display_name": "Python 3",
   "language": "python",
   "name": "python3"
  },
  "language_info": {
   "codemirror_mode": {
    "name": "ipython",
    "version": 3
   },
   "file_extension": ".py",
   "mimetype": "text/x-python",
   "name": "python",
   "nbconvert_exporter": "python",
   "pygments_lexer": "ipython3",
   "version": "3.12.1"
  },
  "orig_nbformat": 2
 },
 "nbformat": 4,
 "nbformat_minor": 2
}
